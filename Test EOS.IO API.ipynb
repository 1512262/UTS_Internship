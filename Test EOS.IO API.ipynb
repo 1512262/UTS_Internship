{
 "cells": [
  {
   "cell_type": "markdown",
   "metadata": {},
   "source": [
    "Use https://eostracker.io/ for test result compare to this notebook"
   ]
  },
  {
   "cell_type": "code",
   "execution_count": 1,
   "metadata": {},
   "outputs": [],
   "source": [
    "import requests\n",
    "import json\n",
    "host = \"https://api-halo.eosasia.one\""
   ]
  },
  {
   "cell_type": "markdown",
   "metadata": {},
   "source": [
    "Test get_info"
   ]
  },
  {
   "cell_type": "code",
   "execution_count": null,
   "metadata": {},
   "outputs": [],
   "source": [
    "url = host+\"/v1/chain/get_info\"\n",
    "response = requests.post(url)\n",
    "parsed = json.loads(response.text)\n",
    "print(json.dumps(parsed, indent=4, sort_keys=True))"
   ]
  },
  {
   "cell_type": "markdown",
   "metadata": {},
   "source": [
    "Test get_block"
   ]
  },
  {
   "cell_type": "code",
   "execution_count": null,
   "metadata": {},
   "outputs": [],
   "source": [
    "url = host+\"/v1/chain/get_block\"\n",
    "response = requests.post(url,json={'block_num_or_id': '11144450'})\n",
    "parsed = json.loads(response.text)\n",
    "print(json.dumps(parsed, indent=4, sort_keys=True))"
   ]
  },
  {
   "cell_type": "markdown",
   "metadata": {},
   "source": [
    "Test get_block_header_state"
   ]
  },
  {
   "cell_type": "code",
   "execution_count": null,
   "metadata": {},
   "outputs": [],
   "source": [
    "url = host+\"/v1/chain/get_block_header_state\"\n",
    "response = requests.post(url,json={'block_num_or_id': '11144450'})\n",
    "parsed = json.loads(response.text)\n",
    "print(json.dumps(parsed, indent=4, sort_keys=True))"
   ]
  },
  {
   "cell_type": "markdown",
   "metadata": {},
   "source": [
    "Test get_account"
   ]
  },
  {
   "cell_type": "code",
   "execution_count": null,
   "metadata": {},
   "outputs": [],
   "source": [
    "url = host+\"/v1/chain/get_account\"\n",
    "response = requests.post(url,json={'account_name': 'eosio'})\n",
    "parsed = json.loads(response.text)\n",
    "print(json.dumps(parsed, indent=4, sort_keys=True))"
   ]
  },
  {
   "cell_type": "markdown",
   "metadata": {},
   "source": [
    "Test get_abi"
   ]
  },
  {
   "cell_type": "code",
   "execution_count": null,
   "metadata": {},
   "outputs": [],
   "source": [
    "url = host+\"/v1/chain/get_abi\"\n",
    "response = requests.post(url,json={'account_name': 'eosio.token'})\n",
    "parsed = json.loads(response.text)\n",
    "print(json.dumps(parsed, indent=4, sort_keys=True))"
   ]
  },
  {
   "cell_type": "markdown",
   "metadata": {},
   "source": [
    "Test get_code"
   ]
  },
  {
   "cell_type": "code",
   "execution_count": null,
   "metadata": {},
   "outputs": [],
   "source": [
    "url = host+\"/v1/chain/get_code\"\n",
    "response = requests.post(url,json={'account_name': 'eosio.token'})\n",
    "parsed = json.loads(response.text)\n",
    "print(json.dumps(parsed, indent=4, sort_keys=True))"
   ]
  },
  {
   "cell_type": "markdown",
   "metadata": {},
   "source": [
    "Test get_raw_code_and_abi"
   ]
  },
  {
   "cell_type": "code",
   "execution_count": null,
   "metadata": {},
   "outputs": [],
   "source": [
    "url = host+\"/v1/chain/get_raw_code_and_abi\"\n",
    "response = requests.post(url,json={'account_name': 'eosio.token'})\n",
    "parsed = json.loads(response.text)\n",
    "print(json.dumps(parsed, indent=4, sort_keys=True))"
   ]
  },
  {
   "cell_type": "markdown",
   "metadata": {},
   "source": [
    "Test get_table_rows"
   ]
  },
  {
   "cell_type": "code",
   "execution_count": null,
   "metadata": {},
   "outputs": [],
   "source": [
    "url = host+\"/v1/chain/get_table_rows\"\n",
    "response = requests.post(url,json={'table':'global','scope':'eosio','code':'eosio','limit':'10','json':'true'})\n",
    "parsed = json.loads(response.text)\n",
    "print(json.dumps(parsed, indent=4, sort_keys=True))"
   ]
  },
  {
   "cell_type": "markdown",
   "metadata": {},
   "source": [
    "Test get_currency_balance"
   ]
  },
  {
   "cell_type": "code",
   "execution_count": null,
   "metadata": {},
   "outputs": [],
   "source": [
    "url = host+\"/v1/chain/get_currency_balance\"\n",
    "response = requests.post(url,json={'code':'eosio.token', 'account': 'safehaven123', 'symbol':'EOS'})\n",
    "parsed = json.loads(response.text)\n",
    "print(json.dumps(parsed, indent=4, sort_keys=True))"
   ]
  },
  {
   "cell_type": "markdown",
   "metadata": {},
   "source": [
    "Test abi_json_to_bin"
   ]
  },
  {
   "cell_type": "code",
   "execution_count": null,
   "metadata": {},
   "outputs": [],
   "source": [
    "url = host+\"/v1/chain/abi_json_to_bin\"\n",
    "response = requests.post(url,json={\"code\":\"eosio.token\", \n",
    "                                   \"action\":\"transfer\", \n",
    "                                   \"args\":\n",
    "                                   {\"from\":\"tester\",\"to\":\"user\", \"quantity\":\"1.0000 EOS\",\"memo\":\"transfer\"\n",
    "                                   }\n",
    "                                  }\n",
    "                        )\n",
    "parsed = json.loads(response.text)\n",
    "print(json.dumps(parsed, indent=4, sort_keys=True))"
   ]
  },
  {
   "cell_type": "markdown",
   "metadata": {},
   "source": [
    "Test abi_bin_to_json"
   ]
  },
  {
   "cell_type": "code",
   "execution_count": null,
   "metadata": {},
   "outputs": [],
   "source": [
    "url = host+\"/v1/chain/abi_bin_to_json\"\n",
    "response = requests.post(url,json={\"code\":\"eosio.token\", \n",
    "                                   \"action\":\"transfer\",\n",
    "                                   \"binargs\": \"000000005c95b1ca00000000007015d6102700000000000004454f5300000000087472616e73666572\"\n",
    "                                  }\n",
    "                        )\n",
    "                                \n",
    "parsed = json.loads(response.text)\n",
    "print(json.dumps(parsed, indent=4, sort_keys=True))"
   ]
  },
  {
   "cell_type": "markdown",
   "metadata": {},
   "source": [
    "Test get_required_keys"
   ]
  },
  {
   "cell_type": "code",
   "execution_count": null,
   "metadata": {},
   "outputs": [],
   "source": [
    "url = host+\"/v1/chain/get_required_keys\"\n",
    "response = requests.post(url,json={'transaction':\n",
    "                                   {\n",
    "                                          \"ref_block_num\": \"100\",\n",
    "                                           \"ref_block_prefix\": \"137469861\",\n",
    "                                           \"expiration\": \"2017-09-25T06:28:49\",\n",
    "                                           \"scope\": [\"initb\", \"initc\"],\n",
    "                                           \"actions\": \n",
    "                                           [{\n",
    "                                               \"code\": \"currency\",\n",
    "                                               \"type\": \"transfer\",\n",
    "                                               \"recipients\": [\"initb\", \"initc\"],\n",
    "                                               \"authorization\": \n",
    "                                               [{\n",
    "                                                   \"account\": \"initb\",\n",
    "                                                   \"permission\": \"active\"\n",
    "                                               }],\n",
    "                                               \"data\": \"000000000041934b000000008041934be803000000000000\"\n",
    "                                           }],\n",
    "                                           \"signatures\": [],\n",
    "                                           \"authorizations\": []\n",
    "                                   },\n",
    "                                   'available_keys':\n",
    "                                   [\"EOS4toFS3YXEQCkuuw1aqDLrtHim86Gz9u3hBdcBw5KNPZcursVHq\",\n",
    "                                    \"EOS7d9A3uLe6As66jzN8j44TXJUqJSK3bFjjEEqR4oTvNAB3iM9SA\",\n",
    "                                    \"EOS6MRyAjQq8ud7hVNYcfnVPJqcVpscN5So8BhtHuGYqET5GDW5CV\"]\n",
    "                                  }\n",
    "                        )\n",
    "                                \n",
    "parsed = json.loads(response.text)\n",
    "print(json.dumps(parsed, indent=4, sort_keys=True))"
   ]
  },
  {
   "cell_type": "markdown",
   "metadata": {},
   "source": [
    "Test get_currency_stats"
   ]
  },
  {
   "cell_type": "code",
   "execution_count": 3,
   "metadata": {},
   "outputs": [
    {
     "name": "stdout",
     "output_type": "stream",
     "text": [
      "{\n",
      "    \"EOS\": {\n",
      "        \"issuer\": \"eosio\",\n",
      "        \"max_supply\": \"10000000000.0000 EOS\",\n",
      "        \"supply\": \"1008818556.5815 EOS\"\n",
      "    }\n",
      "}\n"
     ]
    }
   ],
   "source": [
    "url = host+\"/v1/chain/get_currency_stats\"\n",
    "response = requests.post(url,json={'code':'eosio.token', 'symbol':'EOS'})\n",
    "parsed = json.loads(response.text)\n",
    "print(json.dumps(parsed, indent=4, sort_keys=True))"
   ]
  },
  {
   "cell_type": "markdown",
   "metadata": {},
   "source": [
    "Test get_producers"
   ]
  },
  {
   "cell_type": "code",
   "execution_count": 6,
   "metadata": {},
   "outputs": [
    {
     "name": "stdout",
     "output_type": "stream",
     "text": [
      "{\n",
      "    \"more\": \"eospaygatebp\",\n",
      "    \"rows\": [\n",
      "        {\n",
      "            \"is_active\": 1,\n",
      "            \"last_claim_time\": \"1529459862000000\",\n",
      "            \"location\": 0,\n",
      "            \"owner\": \"123singapore\",\n",
      "            \"producer_key\": \"EOS71UbkZzuz55WNBpsEVQzkXrZAJ2XyLoQiEcS9WKwbYambhFxWb\",\n",
      "            \"total_votes\": \"7168943545942547.00000000000000000\",\n",
      "            \"unpaid_blocks\": 0,\n",
      "            \"url\": \"http://eos.vote\"\n",
      "        },\n",
      "        {\n",
      "            \"is_active\": 1,\n",
      "            \"last_claim_time\": 0,\n",
      "            \"location\": 616,\n",
      "            \"owner\": \"emergepoland\",\n",
      "            \"producer_key\": \"EOS7ghyBJsLyNiyJBwLDnRBUCfNcYENeqiZb1hAjS5yhHA4KmpMRn\",\n",
      "            \"total_votes\": \"6801919952593912.00000000000000000\",\n",
      "            \"unpaid_blocks\": 0,\n",
      "            \"url\": \"https://eosemerge.io\"\n",
      "        },\n",
      "        {\n",
      "            \"is_active\": 1,\n",
      "            \"last_claim_time\": 0,\n",
      "            \"location\": 0,\n",
      "            \"owner\": \"eostark11111\",\n",
      "            \"producer_key\": \"EOS8gC9ySrYrP3arewzCp4JQAwb8om7vzttBzzdh9CtkmEDFxZP4h\",\n",
      "            \"total_votes\": \"6565401400711252.00000000000000000\",\n",
      "            \"unpaid_blocks\": 0,\n",
      "            \"url\": \"www.eostark.com\"\n",
      "        }\n",
      "    ],\n",
      "    \"total_producer_vote_weight\": \"14582119908921729024.00000000000000000\"\n",
      "}\n"
     ]
    }
   ],
   "source": [
    "url = host+\"/v1/chain/get_producers\"\n",
    "response = requests.post(url,json={\"json\":\"true\",\"limit\":\"3\",\"lower_bound\":\"1\"})\n",
    "parsed = json.loads(response.text)\n",
    "print(json.dumps(parsed, indent=4, sort_keys=True))"
   ]
  },
  {
   "cell_type": "markdown",
   "metadata": {},
   "source": [
    "Test get_transaction"
   ]
  },
  {
   "cell_type": "code",
   "execution_count": 14,
   "metadata": {},
   "outputs": [
    {
     "name": "stdout",
     "output_type": "stream",
     "text": [
      "{\n",
      "    \"block_num\": 11571685,\n",
      "    \"block_time\": \"2018-08-17T09:28:14.000\",\n",
      "    \"id\": \"b7c1a25fddf2bb4223b5f15aa8e5948ac2304d5bfb6f2df4234230c6e31fc922\",\n",
      "    \"last_irreversible_block\": 11878739,\n",
      "    \"traces\": [\n",
      "        {\n",
      "            \"act\": {\n",
      "                \"account\": \"eosio.token\",\n",
      "                \"authorization\": [\n",
      "                    {\n",
      "                        \"actor\": \"starteosiobp\",\n",
      "                        \"permission\": \"active\"\n",
      "                    }\n",
      "                ],\n",
      "                \"data\": {\n",
      "                    \"from\": \"starteosiobp\",\n",
      "                    \"memo\": \"\\u6d4b\\u8bd5\",\n",
      "                    \"quantity\": \"1.0000 EOS\",\n",
      "                    \"to\": \"starteosio11\"\n",
      "                },\n",
      "                \"hex_data\": \"500f7598aa7c4dc610027598aa7c4dc6102700000000000004454f530000000006e6b58be8af95\",\n",
      "                \"name\": \"transfer\"\n",
      "            },\n",
      "            \"console\": \"\",\n",
      "            \"cpu_usage\": 0,\n",
      "            \"elapsed\": 483,\n",
      "            \"inline_traces\": [\n",
      "                {\n",
      "                    \"act\": {\n",
      "                        \"account\": \"eosio.token\",\n",
      "                        \"authorization\": [\n",
      "                            {\n",
      "                                \"actor\": \"starteosiobp\",\n",
      "                                \"permission\": \"active\"\n",
      "                            }\n",
      "                        ],\n",
      "                        \"data\": {\n",
      "                            \"from\": \"starteosiobp\",\n",
      "                            \"memo\": \"\\u6d4b\\u8bd5\",\n",
      "                            \"quantity\": \"1.0000 EOS\",\n",
      "                            \"to\": \"starteosio11\"\n",
      "                        },\n",
      "                        \"hex_data\": \"500f7598aa7c4dc610027598aa7c4dc6102700000000000004454f530000000006e6b58be8af95\",\n",
      "                        \"name\": \"transfer\"\n",
      "                    },\n",
      "                    \"console\": \"\",\n",
      "                    \"cpu_usage\": 0,\n",
      "                    \"elapsed\": 5,\n",
      "                    \"inline_traces\": [],\n",
      "                    \"receipt\": {\n",
      "                        \"abi_sequence\": 2,\n",
      "                        \"act_digest\": \"d16f3727fd0616b12da29012263117dcdd43aa0f9ebed40aa55e03f77c8e0728\",\n",
      "                        \"auth_sequence\": [\n",
      "                            [\n",
      "                                \"starteosiobp\",\n",
      "                                890\n",
      "                            ]\n",
      "                        ],\n",
      "                        \"code_sequence\": 2,\n",
      "                        \"global_sequence\": 259638478,\n",
      "                        \"receiver\": \"starteosiobp\",\n",
      "                        \"recv_sequence\": 1238\n",
      "                    },\n",
      "                    \"total_cpu_usage\": 0,\n",
      "                    \"trx_id\": \"b7c1a25fddf2bb4223b5f15aa8e5948ac2304d5bfb6f2df4234230c6e31fc922\"\n",
      "                },\n",
      "                {\n",
      "                    \"act\": {\n",
      "                        \"account\": \"eosio.token\",\n",
      "                        \"authorization\": [\n",
      "                            {\n",
      "                                \"actor\": \"starteosiobp\",\n",
      "                                \"permission\": \"active\"\n",
      "                            }\n",
      "                        ],\n",
      "                        \"data\": {\n",
      "                            \"from\": \"starteosiobp\",\n",
      "                            \"memo\": \"\\u6d4b\\u8bd5\",\n",
      "                            \"quantity\": \"1.0000 EOS\",\n",
      "                            \"to\": \"starteosio11\"\n",
      "                        },\n",
      "                        \"hex_data\": \"500f7598aa7c4dc610027598aa7c4dc6102700000000000004454f530000000006e6b58be8af95\",\n",
      "                        \"name\": \"transfer\"\n",
      "                    },\n",
      "                    \"console\": \"\",\n",
      "                    \"cpu_usage\": 0,\n",
      "                    \"elapsed\": 6,\n",
      "                    \"inline_traces\": [],\n",
      "                    \"receipt\": {\n",
      "                        \"abi_sequence\": 2,\n",
      "                        \"act_digest\": \"d16f3727fd0616b12da29012263117dcdd43aa0f9ebed40aa55e03f77c8e0728\",\n",
      "                        \"auth_sequence\": [\n",
      "                            [\n",
      "                                \"starteosiobp\",\n",
      "                                891\n",
      "                            ]\n",
      "                        ],\n",
      "                        \"code_sequence\": 2,\n",
      "                        \"global_sequence\": 259638479,\n",
      "                        \"receiver\": \"starteosio11\",\n",
      "                        \"recv_sequence\": 10\n",
      "                    },\n",
      "                    \"total_cpu_usage\": 0,\n",
      "                    \"trx_id\": \"b7c1a25fddf2bb4223b5f15aa8e5948ac2304d5bfb6f2df4234230c6e31fc922\"\n",
      "                }\n",
      "            ],\n",
      "            \"receipt\": {\n",
      "                \"abi_sequence\": 2,\n",
      "                \"act_digest\": \"d16f3727fd0616b12da29012263117dcdd43aa0f9ebed40aa55e03f77c8e0728\",\n",
      "                \"auth_sequence\": [\n",
      "                    [\n",
      "                        \"starteosiobp\",\n",
      "                        889\n",
      "                    ]\n",
      "                ],\n",
      "                \"code_sequence\": 2,\n",
      "                \"global_sequence\": 259638477,\n",
      "                \"receiver\": \"eosio.token\",\n",
      "                \"recv_sequence\": 3719106\n",
      "            },\n",
      "            \"total_cpu_usage\": 0,\n",
      "            \"trx_id\": \"b7c1a25fddf2bb4223b5f15aa8e5948ac2304d5bfb6f2df4234230c6e31fc922\"\n",
      "        },\n",
      "        {\n",
      "            \"act\": {\n",
      "                \"account\": \"eosio.token\",\n",
      "                \"authorization\": [\n",
      "                    {\n",
      "                        \"actor\": \"starteosiobp\",\n",
      "                        \"permission\": \"active\"\n",
      "                    }\n",
      "                ],\n",
      "                \"data\": {\n",
      "                    \"from\": \"starteosiobp\",\n",
      "                    \"memo\": \"\\u6d4b\\u8bd5\",\n",
      "                    \"quantity\": \"1.0000 EOS\",\n",
      "                    \"to\": \"starteosio11\"\n",
      "                },\n",
      "                \"hex_data\": \"500f7598aa7c4dc610027598aa7c4dc6102700000000000004454f530000000006e6b58be8af95\",\n",
      "                \"name\": \"transfer\"\n",
      "            },\n",
      "            \"console\": \"\",\n",
      "            \"cpu_usage\": 0,\n",
      "            \"elapsed\": 5,\n",
      "            \"inline_traces\": [],\n",
      "            \"receipt\": {\n",
      "                \"abi_sequence\": 2,\n",
      "                \"act_digest\": \"d16f3727fd0616b12da29012263117dcdd43aa0f9ebed40aa55e03f77c8e0728\",\n",
      "                \"auth_sequence\": [\n",
      "                    [\n",
      "                        \"starteosiobp\",\n",
      "                        890\n",
      "                    ]\n",
      "                ],\n",
      "                \"code_sequence\": 2,\n",
      "                \"global_sequence\": 259638478,\n",
      "                \"receiver\": \"starteosiobp\",\n",
      "                \"recv_sequence\": 1238\n",
      "            },\n",
      "            \"total_cpu_usage\": 0,\n",
      "            \"trx_id\": \"b7c1a25fddf2bb4223b5f15aa8e5948ac2304d5bfb6f2df4234230c6e31fc922\"\n",
      "        },\n",
      "        {\n",
      "            \"act\": {\n",
      "                \"account\": \"eosio.token\",\n",
      "                \"authorization\": [\n",
      "                    {\n",
      "                        \"actor\": \"starteosiobp\",\n",
      "                        \"permission\": \"active\"\n",
      "                    }\n",
      "                ],\n",
      "                \"data\": {\n",
      "                    \"from\": \"starteosiobp\",\n",
      "                    \"memo\": \"\\u6d4b\\u8bd5\",\n",
      "                    \"quantity\": \"1.0000 EOS\",\n",
      "                    \"to\": \"starteosio11\"\n",
      "                },\n",
      "                \"hex_data\": \"500f7598aa7c4dc610027598aa7c4dc6102700000000000004454f530000000006e6b58be8af95\",\n",
      "                \"name\": \"transfer\"\n",
      "            },\n",
      "            \"console\": \"\",\n",
      "            \"cpu_usage\": 0,\n",
      "            \"elapsed\": 6,\n",
      "            \"inline_traces\": [],\n",
      "            \"receipt\": {\n",
      "                \"abi_sequence\": 2,\n",
      "                \"act_digest\": \"d16f3727fd0616b12da29012263117dcdd43aa0f9ebed40aa55e03f77c8e0728\",\n",
      "                \"auth_sequence\": [\n",
      "                    [\n",
      "                        \"starteosiobp\",\n",
      "                        891\n",
      "                    ]\n",
      "                ],\n",
      "                \"code_sequence\": 2,\n",
      "                \"global_sequence\": 259638479,\n",
      "                \"receiver\": \"starteosio11\",\n",
      "                \"recv_sequence\": 10\n",
      "            },\n",
      "            \"total_cpu_usage\": 0,\n",
      "            \"trx_id\": \"b7c1a25fddf2bb4223b5f15aa8e5948ac2304d5bfb6f2df4234230c6e31fc922\"\n",
      "        }\n",
      "    ],\n",
      "    \"trx\": {\n",
      "        \"receipt\": {\n",
      "            \"cpu_usage_us\": 784,\n",
      "            \"net_usage_words\": 17,\n",
      "            \"status\": \"executed\",\n",
      "            \"trx\": [\n",
      "                1,\n",
      "                {\n",
      "                    \"compression\": \"none\",\n",
      "                    \"packed_context_free_data\": \"00\",\n",
      "                    \"packed_trx\": \"4c95765be3911c96021a000000000100a6823403ea3055000000572d3ccdcd01500f7598aa7c4dc600000000a8ed323227500f7598aa7c4dc610027598aa7c4dc6102700000000000004454f530000000006e6b58be8af9500\",\n",
      "                    \"signatures\": [\n",
      "                        \"SIG_K1_KfTk3133BrSQfarTyoq3gj4VxRGF7MRRj6PK6ZfDkw1qBdCP7pd493L56Ce2qNMkeTteq7fRgAe33Tr2BB9jLpoM5i3g2c\"\n",
      "                    ]\n",
      "                }\n",
      "            ]\n",
      "        },\n",
      "        \"trx\": {\n",
      "            \"actions\": [\n",
      "                {\n",
      "                    \"account\": \"eosio.token\",\n",
      "                    \"authorization\": [\n",
      "                        {\n",
      "                            \"actor\": \"starteosiobp\",\n",
      "                            \"permission\": \"active\"\n",
      "                        }\n",
      "                    ],\n",
      "                    \"data\": {\n",
      "                        \"from\": \"starteosiobp\",\n",
      "                        \"memo\": \"\\u6d4b\\u8bd5\",\n",
      "                        \"quantity\": \"1.0000 EOS\",\n",
      "                        \"to\": \"starteosio11\"\n",
      "                    },\n",
      "                    \"hex_data\": \"500f7598aa7c4dc610027598aa7c4dc6102700000000000004454f530000000006e6b58be8af95\",\n",
      "                    \"name\": \"transfer\"\n",
      "                }\n",
      "            ],\n",
      "            \"context_free_actions\": [],\n",
      "            \"context_free_data\": [],\n",
      "            \"delay_sec\": 0,\n",
      "            \"expiration\": \"2018-08-17T09:28:44\",\n",
      "            \"max_cpu_usage_ms\": 0,\n",
      "            \"max_net_usage_words\": 0,\n",
      "            \"ref_block_num\": 37347,\n",
      "            \"ref_block_prefix\": 436377116,\n",
      "            \"signatures\": [\n",
      "                \"SIG_K1_KfTk3133BrSQfarTyoq3gj4VxRGF7MRRj6PK6ZfDkw1qBdCP7pd493L56Ce2qNMkeTteq7fRgAe33Tr2BB9jLpoM5i3g2c\"\n",
      "            ],\n",
      "            \"transaction_extensions\": []\n",
      "        }\n",
      "    }\n",
      "}\n"
     ]
    }
   ],
   "source": [
    "url = host+\"/v1/history/get_transaction\"\n",
    "response = requests.post(url,json={'id': 'b7c1a25fddf2bb4223b5f15aa8e5948ac2304d5bfb6f2df4234230c6e31fc922'})\n",
    "parsed = json.loads(response.text)\n",
    "print(json.dumps(parsed, indent=4, sort_keys=True))"
   ]
  }
 ],
 "metadata": {
  "kernelspec": {
   "display_name": "Python 3",
   "language": "python",
   "name": "python3"
  },
  "language_info": {
   "codemirror_mode": {
    "name": "ipython",
    "version": 3
   },
   "file_extension": ".py",
   "mimetype": "text/x-python",
   "name": "python",
   "nbconvert_exporter": "python",
   "pygments_lexer": "ipython3",
   "version": "3.6.5"
  }
 },
 "nbformat": 4,
 "nbformat_minor": 2
}
